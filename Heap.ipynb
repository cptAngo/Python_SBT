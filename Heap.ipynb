{
 "cells": [
  {
   "cell_type": "code",
   "execution_count": 1,
   "metadata": {},
   "outputs": [],
   "source": [
    "import numpy as np"
   ]
  },
  {
   "cell_type": "code",
   "execution_count": 2,
   "metadata": {},
   "outputs": [],
   "source": [
    "w = [1, 1, 1, 1, 1, 8]\n",
    "n = 6"
   ]
  },
  {
   "cell_type": "code",
   "execution_count": 3,
   "metadata": {},
   "outputs": [],
   "source": [
    "C = sum(w)\n",
    "s2 = []\n",
    "def func(n,w):\n",
    "        dif = 0\n",
    "        ind = None\n",
    "        for i in range(n):\n",
    "            s2.append(w[i])\n",
    "            if abs(C-2*sum(s2)) <= dif:\n",
    "                dif = abs(C-2*sum(s2))\n",
    "                ind = i\n",
    "            del s2[-1]\n",
    "        if ind==None:\n",
    "            print s2\n",
    "            return\n",
    "        s2.append(w[ind])\n",
    "        n = n-1\n",
    "        del w[ind]\n",
    "        func(n, w)"
   ]
  },
  {
   "cell_type": "code",
   "execution_count": 4,
   "metadata": {},
   "outputs": [
    {
     "name": "stdout",
     "output_type": "stream",
     "text": [
      "[]\n"
     ]
    }
   ],
   "source": [
    "func(n, w)"
   ]
  },
  {
   "cell_type": "code",
   "execution_count": null,
   "metadata": {},
   "outputs": [],
   "source": []
  }
 ],
 "metadata": {
  "kernelspec": {
   "display_name": "Python 2",
   "language": "python",
   "name": "python2"
  },
  "language_info": {
   "codemirror_mode": {
    "name": "ipython",
    "version": 2
   },
   "file_extension": ".py",
   "mimetype": "text/x-python",
   "name": "python",
   "nbconvert_exporter": "python",
   "pygments_lexer": "ipython2",
   "version": "2.7.14"
  }
 },
 "nbformat": 4,
 "nbformat_minor": 2
}
