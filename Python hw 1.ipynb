{
 "cells": [
  {
   "cell_type": "markdown",
   "metadata": {},
   "source": [
    "# 1 Python"
   ]
  },
  {
   "cell_type": "markdown",
   "metadata": {},
   "source": [
    "### 1"
   ]
  },
  {
   "cell_type": "markdown",
   "metadata": {},
   "source": [
    "\n",
    "list - изменняемый массив\n",
    "\n",
    "tuple - неизменяемый(в кач-ве ключей к dict)\n",
    "\n",
    "\n",
    "dict - хэш таблица\n",
    "\n",
    "range - возвращает лист\n",
    "\n",
    "xrange - возвр итератор\n",
    "\n",
    "[i for i in range(10)] - list comprehension\n",
    "\n",
    "map(func, list) - применяет func к каждому эл-ту list и возвр list\n",
    "\n",
    "reduce(func, list, a0) - рекуррентное применение функции к list"
   ]
  },
  {
   "cell_type": "markdown",
   "metadata": {},
   "source": [
    "### 2"
   ]
  },
  {
   "cell_type": "code",
   "execution_count": 73,
   "metadata": {},
   "outputs": [],
   "source": [
    "def fib(n):\n",
    "    if (n < 2):\n",
    "        return 1\n",
    "    return fib(n-1) + fib(n-2)"
   ]
  },
  {
   "cell_type": "markdown",
   "metadata": {},
   "source": [
    "### 3"
   ]
  },
  {
   "cell_type": "code",
   "execution_count": 24,
   "metadata": {},
   "outputs": [
    {
     "name": "stdout",
     "output_type": "stream",
     "text": [
      "CPU times: user 57.5 s, sys: 1.4 s, total: 58.9 s\n",
      "Wall time: 58.1 s\n"
     ]
    },
    {
     "data": {
      "text/plain": [
       "102334155"
      ]
     },
     "execution_count": 24,
     "metadata": {},
     "output_type": "execute_result"
    }
   ],
   "source": [
    "%%time\n",
    "fib(40)"
   ]
  },
  {
   "cell_type": "markdown",
   "metadata": {},
   "source": [
    "### 4"
   ]
  },
  {
   "cell_type": "code",
   "execution_count": 90,
   "metadata": {},
   "outputs": [
    {
     "name": "stdout",
     "output_type": "stream",
     "text": [
      "**********************************************************************\n",
      "File \"__main__\", line 12, in __main__.compl\n",
      "Failed example:\n",
      "    compl(1, 1)\n",
      "Expected:\n",
      "    test wrong answer\n",
      "Got:\n",
      "    (1.4142135623730951, 0.7853981633974483)\n",
      "**********************************************************************\n",
      "1 items had failures:\n",
      "   1 of   3 in __main__.compl\n",
      "***Test Failed*** 1 failures.\n"
     ]
    },
    {
     "data": {
      "text/plain": [
       "TestResults(failed=1, attempted=3)"
      ]
     },
     "execution_count": 90,
     "metadata": {},
     "output_type": "execute_result"
    }
   ],
   "source": [
    "import math\n",
    "\n",
    "def compl(im, re):\n",
    "    \"\"\"This function return module and argument of complex number with image part im and real part re\n",
    "    \n",
    "    >>> compl(7, 18)\n",
    "    (19.313207915827967, 0.37089128881266237)\n",
    "    \n",
    "    >>> compl(7.18, 1.2)\n",
    "    (7.279587900424034, 1.405195978227606)\n",
    "    \n",
    "    >>> compl(1, 1)\n",
    "    test wrong answer\n",
    "    \"\"\"\n",
    "    \n",
    "    if (re==0):\n",
    "        return math.sqrt(im*im + re*re), math.pi/2\n",
    "    else:\n",
    "        return math.sqrt(im*im + re*re), math.atan(float(im)/re)\n",
    "\n",
    "import doctest\n",
    "doctest.testmod()"
   ]
  },
  {
   "cell_type": "code",
   "execution_count": 72,
   "metadata": {},
   "outputs": [
    {
     "data": {
      "text/plain": [
       "tuple"
      ]
     },
     "execution_count": 72,
     "metadata": {},
     "output_type": "execute_result"
    }
   ],
   "source": [
    "type(compl(1, 12))"
   ]
  },
  {
   "cell_type": "code",
   "execution_count": 62,
   "metadata": {},
   "outputs": [
    {
     "data": {
      "text/plain": [
       "TestResults(failed=0, attempted=0)"
      ]
     },
     "execution_count": 62,
     "metadata": {},
     "output_type": "execute_result"
    }
   ],
   "source": [
    "import doctest\n",
    "doctest.testmod()"
   ]
  },
  {
   "cell_type": "markdown",
   "metadata": {},
   "source": [
    "### 7"
   ]
  },
  {
   "cell_type": "code",
   "execution_count": 2,
   "metadata": {},
   "outputs": [],
   "source": [
    "def cache_dec(func):\n",
    "    cache = {}\n",
    "    \n",
    "    def wrapper(arg):\n",
    "        if (arg in cache):\n",
    "            return cache[arg]\n",
    "        else:\n",
    "            cache[arg] = func(arg)\n",
    "            return func(arg)\n",
    "        \n",
    "    return wrapper"
   ]
  },
  {
   "cell_type": "code",
   "execution_count": 3,
   "metadata": {},
   "outputs": [],
   "source": [
    "import time\n",
    "def clock(func):\n",
    "    t0 = time.time()\n",
    "    \n",
    "    def wrapper(arg):\n",
    "        print \"time =\", time.time()-t0\n",
    "        return func(arg)\n",
    "    return wrapper"
   ]
  },
  {
   "cell_type": "code",
   "execution_count": 274,
   "metadata": {},
   "outputs": [],
   "source": [
    "@cache_dec\n",
    "@clock\n",
    "def fib(n):\n",
    "    if (n < 2):\n",
    "        return n\n",
    "    return fib(n-1) + fib(n-2)"
   ]
  },
  {
   "cell_type": "code",
   "execution_count": 6,
   "metadata": {},
   "outputs": [
    {
     "name": "stdout",
     "output_type": "stream",
     "text": [
      "time = 23.774212122\n",
      "0\n",
      "time = 23.7743179798\n",
      "1\n",
      "time = 23.7744050026\n",
      "time = 23.7744750977\n",
      "time = 23.7745320797\n",
      "time = 23.7746071815\n",
      "time = 23.7746841908\n",
      "1\n",
      "time = 23.7748711109\n",
      "time = 23.7749481201\n",
      "time = 23.7753679752\n",
      "time = 23.7756230831\n",
      "time = 23.7756900787\n",
      "2\n",
      "time = 23.7757761478\n",
      "time = 23.7758390903\n",
      "time = 23.7765300274\n",
      "time = 23.7766551971\n",
      "time = 23.7776021957\n",
      "3\n",
      "time = 23.7778151035\n",
      "time = 23.777916193\n",
      "time = 23.7779870033\n",
      "time = 23.7780470848\n",
      "time = 23.7781050205\n",
      "5\n",
      "time = 23.7791941166\n",
      "time = 23.7793211937\n",
      "time = 23.7793881893\n",
      "time = 23.7794611454\n",
      "time = 23.7798111439\n",
      "8\n",
      "time = 23.7799291611\n",
      "time = 23.7800061703\n",
      "time = 23.7800831795\n",
      "time = 23.7801601887\n",
      "time = 23.7802381516\n",
      "13\n",
      "time = 23.7803530693\n",
      "time = 23.7804291248\n",
      "time = 23.7805020809\n",
      "time = 23.7806429863\n",
      "time = 23.7807099819\n",
      "21\n",
      "time = 23.7807621956\n",
      "time = 23.7808060646\n",
      "time = 23.7808389664\n",
      "time = 23.7808721066\n",
      "time = 23.7809050083\n",
      "34\n"
     ]
    }
   ],
   "source": [
    "for i in range(10):\n",
    "    print fib(i)"
   ]
  },
  {
   "cell_type": "code",
   "execution_count": 7,
   "metadata": {},
   "outputs": [],
   "source": [
    "@clock\n",
    "@cache_dec\n",
    "def fib(n):\n",
    "    if (n < 2):\n",
    "        return n\n",
    "    return fib(n-1) + fib(n-2)"
   ]
  },
  {
   "cell_type": "code",
   "execution_count": 8,
   "metadata": {},
   "outputs": [
    {
     "name": "stdout",
     "output_type": "stream",
     "text": [
      "time = 15.6093080044\n",
      "0\n",
      "time = 15.6095478535\n",
      "1\n",
      "time = 15.6097049713\n",
      "time = 15.6098668575\n",
      "time = 15.6099648476\n",
      "time = 15.6100609303\n",
      "time = 15.6101558208\n",
      "1\n",
      "time = 15.610394001\n",
      "time = 15.6105079651\n",
      "time = 15.6106028557\n",
      "time = 15.6106798649\n",
      "time = 15.6107738018\n",
      "2\n",
      "time = 15.6110157967\n",
      "time = 15.6111168861\n",
      "time = 15.6113398075\n",
      "time = 15.6114308834\n",
      "time = 15.6114909649\n",
      "3\n",
      "time = 15.6126229763\n",
      "time = 15.6127338409\n",
      "time = 15.6130068302\n",
      "time = 15.6131858826\n",
      "time = 15.6132659912\n",
      "5\n",
      "time = 15.6145467758\n",
      "time = 15.6146419048\n",
      "time = 15.6147348881\n",
      "time = 15.6162829399\n",
      "time = 15.6163640022\n",
      "8\n",
      "time = 15.6165268421\n",
      "time = 15.6168148518\n",
      "time = 15.617128849\n",
      "time = 15.6172058582\n",
      "time = 15.617305994\n",
      "13\n",
      "time = 15.6174278259\n",
      "time = 15.6174938679\n",
      "time = 15.6182909012\n",
      "time = 15.618377924\n",
      "time = 15.6184709072\n",
      "21\n",
      "time = 15.6185998917\n",
      "time = 15.6186778545\n",
      "time = 15.6187508106\n",
      "time = 15.6188287735\n",
      "time = 15.6192657948\n",
      "34\n"
     ]
    }
   ],
   "source": [
    "for i in range(10):\n",
    "    print fib(i)"
   ]
  },
  {
   "cell_type": "markdown",
   "metadata": {},
   "source": [
    "Либо это рандомное время работы программы либо в первом случае время больше тк время считается после кэширования а во втором перед"
   ]
  },
  {
   "cell_type": "code",
   "execution_count": 109,
   "metadata": {},
   "outputs": [],
   "source": [
    "class Complex(object):\n",
    "        \n",
    "    @property\n",
    "    def im(self):\n",
    "        return self._im\n",
    "    \n",
    "    @im.setter\n",
    "    def im(self, im):\n",
    "        self._im = im\n",
    "        \n",
    "    @property\n",
    "    def re(self):\n",
    "        return self._re\n",
    "    \n",
    "    @re.setter\n",
    "    def re(self, re):\n",
    "        self._re = re\n",
    "        \n",
    "    def method(self):\n",
    "        if (self._re==0):\n",
    "            return math.sqrt(self._im**2 + self._re**2), math.pi/2\n",
    "        else:\n",
    "            return math.sqrt(self._im**2 + self._re**2), math.atan(float(self._im)/self._re)"
   ]
  },
  {
   "cell_type": "code",
   "execution_count": 110,
   "metadata": {},
   "outputs": [],
   "source": [
    "comp = Complex()"
   ]
  },
  {
   "cell_type": "code",
   "execution_count": 111,
   "metadata": {},
   "outputs": [],
   "source": [
    "comp.im = 3\n",
    "comp.re = 12"
   ]
  },
  {
   "cell_type": "code",
   "execution_count": 112,
   "metadata": {},
   "outputs": [
    {
     "data": {
      "text/plain": [
       "(12.36931687685298, 0.24497866312686414)"
      ]
     },
     "execution_count": 112,
     "metadata": {},
     "output_type": "execute_result"
    }
   ],
   "source": [
    "comp.method()"
   ]
  },
  {
   "cell_type": "code",
   "execution_count": null,
   "metadata": {},
   "outputs": [],
   "source": []
  }
 ],
 "metadata": {
  "kernelspec": {
   "display_name": "Python 2",
   "language": "python",
   "name": "python2"
  },
  "language_info": {
   "codemirror_mode": {
    "name": "ipython",
    "version": 2
   },
   "file_extension": ".py",
   "mimetype": "text/x-python",
   "name": "python",
   "nbconvert_exporter": "python",
   "pygments_lexer": "ipython2",
   "version": "2.7.14"
  }
 },
 "nbformat": 4,
 "nbformat_minor": 2
}
