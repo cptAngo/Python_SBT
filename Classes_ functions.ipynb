{
 "cells": [
  {
   "cell_type": "code",
   "execution_count": 1,
   "metadata": {},
   "outputs": [],
   "source": [
    "import numpy as np\n",
    "import pandas as pd\n",
    "from tqdm import tqdm"
   ]
  },
  {
   "cell_type": "markdown",
   "metadata": {},
   "source": [
    "# 1. Что такое функции и как их писать\n",
    "#### Делаем данные"
   ]
  },
  {
   "cell_type": "code",
   "execution_count": 2,
   "metadata": {},
   "outputs": [],
   "source": [
    "data_list = ['{0} C'.format(x) for x in range(1, 10000)]\n",
    "data_array = np.array(data_list)\n",
    "data_dataframe = pd.DataFrame({'col':data_list})\n",
    "\n",
    "def celcius_to_farengate(temp):\n",
    "    return float(temp.split(' C')[0])*9./5 + 32\n",
    "\n",
    "celcius_to_farengate = lambda x: float(x.split(' C')[0])*9./5 + 32"
   ]
  },
  {
   "cell_type": "markdown",
   "metadata": {},
   "source": [
    "#### Как применять функции"
   ]
  },
  {
   "cell_type": "code",
   "execution_count": 3,
   "metadata": {},
   "outputs": [],
   "source": [
    "data_list_apply = map( celcius_to_farengate, data_list)"
   ]
  },
  {
   "cell_type": "code",
   "execution_count": 6,
   "metadata": {},
   "outputs": [
    {
     "data": {
      "text/plain": [
       "list"
      ]
     },
     "execution_count": 6,
     "metadata": {},
     "output_type": "execute_result"
    }
   ],
   "source": [
    "type(data_list_apply)"
   ]
  },
  {
   "cell_type": "code",
   "execution_count": 7,
   "metadata": {},
   "outputs": [],
   "source": [
    "data_list_apply = [celcius_to_farengate(el) for el in data_list]"
   ]
  },
  {
   "cell_type": "code",
   "execution_count": 8,
   "metadata": {},
   "outputs": [],
   "source": [
    "array_func = np.vectorize(celcius_to_farengate)"
   ]
  },
  {
   "cell_type": "code",
   "execution_count": 9,
   "metadata": {},
   "outputs": [],
   "source": [
    "data_array_apply = array_func(data_array)"
   ]
  },
  {
   "cell_type": "code",
   "execution_count": 10,
   "metadata": {},
   "outputs": [],
   "source": [
    "data_dataframe['apply'] = data_dataframe['col'].apply(celcius_to_farengate)"
   ]
  },
  {
   "cell_type": "markdown",
   "metadata": {},
   "source": [
    "#### Отступление - tqdm!"
   ]
  },
  {
   "cell_type": "code",
   "execution_count": 11,
   "metadata": {},
   "outputs": [
    {
     "name": "stderr",
     "output_type": "stream",
     "text": [
      "100%|██████████| 9999/9999 [00:00<00:00, 230865.77it/s]\n"
     ]
    }
   ],
   "source": [
    "data_list_apply = [celcius_to_farengate(el) for el in tqdm(data_list)]"
   ]
  },
  {
   "cell_type": "code",
   "execution_count": 12,
   "metadata": {},
   "outputs": [
    {
     "name": "stderr",
     "output_type": "stream",
     "text": [
      "  0%|          | 0/9999 [00:00<?, ?it/s]Exception KeyError: KeyError(<weakref at 0x10e775e10; to 'tqdm' at 0x10e7dd050>,) in <bound method tqdm.__del__ of   0%|          | 0/9999 [00:00<?, ?it/s]> ignored\n"
     ]
    },
    {
     "data": {
      "text/plain": [
       "tqdm._tqdm.tqdm"
      ]
     },
     "execution_count": 12,
     "metadata": {},
     "output_type": "execute_result"
    }
   ],
   "source": [
    "type(tqdm(data_list))"
   ]
  },
  {
   "cell_type": "markdown",
   "metadata": {},
   "source": [
    "### Напишите функцию перевода цельсиев в фаренгейты или наоборот с помощью условия if , сделайте это в разных форматах, с разными функциями"
   ]
  },
  {
   "cell_type": "code",
   "execution_count": 39,
   "metadata": {},
   "outputs": [
    {
     "data": {
      "text/plain": [
       "['1 C', '2 C', '3 C', '997 F', '998 F', '999 F']"
      ]
     },
     "execution_count": 39,
     "metadata": {},
     "output_type": "execute_result"
    }
   ],
   "source": [
    "data_list = ['{0} C'.format(x) for x in range(1, 1000)] + ['{0} F'.format(x) for x in range(1, 1000)]\n",
    "data_list[:3] + data_list[-3:]"
   ]
  },
  {
   "cell_type": "code",
   "execution_count": 62,
   "metadata": {},
   "outputs": [],
   "source": [
    "def trans(data):\n",
    "    a = data.split(' ')\n",
    "    if a[1] == 'C':\n",
    "        return '{0} F'.format(int(a[0])*9./5 + 32)\n",
    "    else:\n",
    "        return '{0} C'.format((int(a[0])-32)*5./9)"
   ]
  },
  {
   "cell_type": "code",
   "execution_count": 63,
   "metadata": {},
   "outputs": [],
   "source": [
    "data_list_apply = map( trans, data_list)"
   ]
  },
  {
   "cell_type": "code",
   "execution_count": 64,
   "metadata": {},
   "outputs": [
    {
     "data": {
      "text/plain": [
       "'33.8 F'"
      ]
     },
     "execution_count": 64,
     "metadata": {},
     "output_type": "execute_result"
    }
   ],
   "source": [
    "data_list_apply[0]"
   ]
  },
  {
   "cell_type": "markdown",
   "metadata": {},
   "source": [
    "### Про args и kwargs - часто встречаются в классах"
   ]
  },
  {
   "cell_type": "code",
   "execution_count": 45,
   "metadata": {},
   "outputs": [
    {
     "name": "stdout",
     "output_type": "stream",
     "text": [
      "20\n",
      "90\n",
      "24\n",
      "900\n"
     ]
    }
   ],
   "source": [
    "# Args - аргументы без ключевого слова, их может быть сколько угодно\n",
    "def multiply(*args):\n",
    "    z = 1\n",
    "    for num in args:\n",
    "        z *= num\n",
    "    print z\n",
    "\n",
    "multiply(4, 5)\n",
    "multiply(10, 9)\n",
    "multiply(2, 3, 4)\n",
    "multiply(3, 5, 10, 6)"
   ]
  },
  {
   "cell_type": "code",
   "execution_count": 46,
   "metadata": {},
   "outputs": [
    {
     "name": "stdout",
     "output_type": "stream",
     "text": [
      "{'kwargs_1': 'Shark', 'kwargs_2': 4.5, 'kwargs_3': True}\n"
     ]
    }
   ],
   "source": [
    "# Kwargs - аргументы с ключевым словом, их тоже может быть сколько угодно\n",
    "def print_kwargs(**kwargs):\n",
    "        print kwargs\n",
    "\n",
    "print_kwargs(kwargs_1=\"Shark\", kwargs_2=4.5, kwargs_3=True)"
   ]
  },
  {
   "cell_type": "markdown",
   "metadata": {},
   "source": [
    "#### Придумайте какую-нибудь функцию с args или kwargs, напишите ее"
   ]
  },
  {
   "cell_type": "code",
   "execution_count": 51,
   "metadata": {},
   "outputs": [],
   "source": [
    "def func(*args):\n",
    "    arr = []\n",
    "    for el in args:\n",
    "        arr.append(el)\n",
    "    return np.max(arr)"
   ]
  },
  {
   "cell_type": "code",
   "execution_count": 53,
   "metadata": {},
   "outputs": [
    {
     "data": {
      "text/plain": [
       "542"
      ]
     },
     "execution_count": 53,
     "metadata": {},
     "output_type": "execute_result"
    }
   ],
   "source": [
    "func(3, 4, 5, 1, 542, 12)"
   ]
  },
  {
   "cell_type": "markdown",
   "metadata": {},
   "source": [
    "# Как писать и применять классы"
   ]
  },
  {
   "cell_type": "code",
   "execution_count": 60,
   "metadata": {},
   "outputs": [
    {
     "name": "stdout",
     "output_type": "stream",
     "text": [
      "Hello my age is 36\n"
     ]
    }
   ],
   "source": [
    "#### Классический пример\n",
    "class Person:\n",
    "    def __init__(self, name, age):\n",
    "        self.name = name\n",
    "        self.age = age\n",
    "\n",
    "    def namefunc(self):\n",
    "        print \"Hello my name is {0}\".format(self.name)\n",
    "        \n",
    "    def agefunc(self):\n",
    "        print \"Hello my age is {0}\".format(self.age)\n",
    "    \n",
    "\n",
    "p1 = Person(\"John\", 36)\n",
    "p1.agefunc()"
   ]
  },
  {
   "cell_type": "markdown",
   "metadata": {},
   "source": [
    "#### Напишите функцию, которая берет на вход данные и имеет функции перевод из Цельсиев в Фаренгейты, из Фаренгейтов в Кельвины\n",
    "\n",
    "Подсказка - дублирующийся код можно вывести в другую функцию или init"
   ]
  },
  {
   "cell_type": "code",
   "execution_count": 72,
   "metadata": {},
   "outputs": [],
   "source": [
    "class Temp:\n",
    "    @staticmethod\n",
    "    def _to_far(data):\n",
    "        a = data.split(' ')\n",
    "        return '{0} F'.format(int(a[0])*9./5 + 32)\n",
    "    \n",
    "    def to_cel(data):\n",
    "        a = data.split(' ')\n",
    "        return '{0} C'.format((int(a[0])-32)*5./9)"
   ]
  },
  {
   "cell_type": "code",
   "execution_count": 74,
   "metadata": {},
   "outputs": [
    {
     "data": {
      "text/plain": [
       "'37.4 F'"
      ]
     },
     "execution_count": 74,
     "metadata": {},
     "output_type": "execute_result"
    }
   ],
   "source": [
    "Temp.to_far('3 C')"
   ]
  },
  {
   "cell_type": "markdown",
   "metadata": {},
   "source": [
    "### Декораторы"
   ]
  },
  {
   "cell_type": "code",
   "execution_count": 75,
   "metadata": {},
   "outputs": [],
   "source": [
    "import time\n",
    "\n",
    "def timer(f):\n",
    "    def tmp(*args, **kwargs):\n",
    "        t = time.time()\n",
    "        res = f(*args, **kwargs)\n",
    "        print \"Время выполнения функции %s: %f\" % (str(f), (time.time()-t))\n",
    "        return res\n",
    "\n",
    "    return tmp\n"
   ]
  },
  {
   "cell_type": "code",
   "execution_count": 17,
   "metadata": {},
   "outputs": [
    {
     "name": "stdout",
     "output_type": "stream",
     "text": [
      "Время выполнения функции <function sqr at 0x7f0c79a85aa0>: 0.003937\n",
      "Время выполнения функции <function sqr at 0x7f0c79a85aa0>: 0.003843\n",
      "Время выполнения функции <function sqr at 0x7f0c79a85aa0>: 0.003712\n",
      "Время выполнения функции <function sqr at 0x7f0c79a85aa0>: 0.004068\n",
      "Время выполнения функции <function sqr at 0x7f0c79a85aa0>: 0.003814\n",
      "Время выполнения функции <function sqr at 0x7f0c79a85aa0>: 0.003743\n",
      "Время выполнения функции <function sqr at 0x7f0c79a85aa0>: 0.003947\n",
      "Время выполнения функции <function sqr at 0x7f0c79a85aa0>: 0.003793\n",
      "Время выполнения функции <function sqr at 0x7f0c79a85aa0>: 0.003763\n",
      "Время выполнения функции <function sqr at 0x7f0c79a85aa0>: 0.003826\n"
     ]
    }
   ],
   "source": [
    "@timer\n",
    "def sqr(x):\n",
    "    return x ** 19000\n",
    "\n",
    "for k in range(10):\n",
    "    sqr(3 ** 7)"
   ]
  },
  {
   "cell_type": "markdown",
   "metadata": {},
   "source": [
    "### Напишите декоратор, который умножает значение функции на 2"
   ]
  },
  {
   "cell_type": "code",
   "execution_count": 95,
   "metadata": {},
   "outputs": [],
   "source": [
    "def mult(f):\n",
    "    def ff(*args, **kwargs):\n",
    "        res = f(*args, **kwargs)\n",
    "        return res*2\n",
    "    return ff"
   ]
  },
  {
   "cell_type": "code",
   "execution_count": 96,
   "metadata": {},
   "outputs": [
    {
     "data": {
      "text/plain": [
       "12"
      ]
     },
     "execution_count": 96,
     "metadata": {},
     "output_type": "execute_result"
    }
   ],
   "source": [
    "@mult\n",
    "def f(a, b):\n",
    "    return a*b\n",
    "\n",
    "f(3, 2)"
   ]
  },
  {
   "cell_type": "markdown",
   "metadata": {
    "collapsed": true
   },
   "source": [
    "### С помощью декоторатора, меряющего время, померьте, что быстрее р"
   ]
  },
  {
   "cell_type": "code",
   "execution_count": null,
   "metadata": {
    "collapsed": true
   },
   "outputs": [],
   "source": []
  },
  {
   "cell_type": "markdown",
   "metadata": {},
   "source": [
    "# Всякие полезные хаки для питона и не только, если останется время"
   ]
  },
  {
   "cell_type": "markdown",
   "metadata": {},
   "source": [
    "## Markdown!\n",
    "#### Что такое markdown и всякие прикольные штуки для него\n",
    "###### Всякие вещи...\n",
    "** Можно писать жирным шрифтом **\n"
   ]
  },
  {
   "cell_type": "markdown",
   "metadata": {},
   "source": [
    "`Можно добавлять таблички`\n",
    "\n",
    "| Tables        | Are           | Cool  |\n",
    "| ------------- |:-------------:| -----:|\n",
    "| col 3 is      | right-aligned | 1600 |\n",
    "| col 2 is      | centered      |   12 |\n",
    "| zebra stripes | are neat      |    1 |"
   ]
  },
  {
   "cell_type": "markdown",
   "metadata": {},
   "source": [
    "Можно писать формулы\n",
    "\n",
    "$$e^x=\\sum_{i=0}^\\infty \\frac{1}{i!}x^i$$"
   ]
  },
  {
   "cell_type": "markdown",
   "metadata": {},
   "source": [
    "`Можно добавлять таблички`\n",
    "\n",
    "| Tables                                     | Are           | Cool  |\n",
    "| ------------------------------------------ |:-------------:| -----:|\n",
    "| $$e^x=\\sum_{i=0}^\\infty \\frac{1}{i!}x^i$$     | makloren formula | 1 |\n"
   ]
  },
  {
   "cell_type": "markdown",
   "metadata": {},
   "source": [
    "<font color='green' size =4.2 style='times new roman'>Писать разными цветами, размерами и шрифтами, потому что в markdown можно протаскивать html</font>\n",
    "\n",
    "<font color='pink' size =4.2 style='helvetica'>Писать разными цветами, потому что в markdown можно протаскивать html</font>\n",
    "<table height=300 weight=300>\n",
    "    <tr>\n",
    "        <td>[eq</td>\n",
    "        <td>[eq</td>\n",
    "    </tr>\n",
    "</table>"
   ]
  },
  {
   "cell_type": "markdown",
   "metadata": {},
   "source": [
    "#### Задание - напишите таблички с разными формулами, подпишите, что это за формулы, сделайте это разными цветами и шрифтами"
   ]
  },
  {
   "cell_type": "markdown",
   "metadata": {
    "collapsed": true
   },
   "source": [
    "| Tables        | Are           | Cool  |\n",
    "| ------------- |:-------------:| -----:|\n",
    "| $$a=x^3+y^2$$      |   $$\\infty$$ | $$L_O_L$$ |\n",
    "| col 2 is      | centered      |   12 |\n",
    "| zebra stripes | are neat      |    1 |"
   ]
  },
  {
   "cell_type": "markdown",
   "metadata": {},
   "source": [
    "## Правила pep8\n",
    "Ссылка https://pythonworld.ru/osnovy/pep-8-rukovodstvo-po-napisaniyu-koda-na-python.html"
   ]
  },
  {
   "cell_type": "markdown",
   "metadata": {},
   "source": [
    "Почитайте, выпишите полезные и бесполезные на ваш взгляд правила"
   ]
  },
  {
   "cell_type": "code",
   "execution_count": null,
   "metadata": {
    "collapsed": true
   },
   "outputs": [],
   "source": []
  }
 ],
 "metadata": {
  "kernelspec": {
   "display_name": "Python 2",
   "language": "python",
   "name": "python2"
  },
  "language_info": {
   "codemirror_mode": {
    "name": "ipython",
    "version": 2
   },
   "file_extension": ".py",
   "mimetype": "text/x-python",
   "name": "python",
   "nbconvert_exporter": "python",
   "pygments_lexer": "ipython2",
   "version": "2.7.14"
  }
 },
 "nbformat": 4,
 "nbformat_minor": 2
}
