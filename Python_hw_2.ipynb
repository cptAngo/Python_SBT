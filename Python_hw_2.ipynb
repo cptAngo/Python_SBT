{
 "cells": [
  {
   "cell_type": "markdown",
   "metadata": {},
   "source": [
    "# Распарсим сайт с отзывами на мобилы"
   ]
  },
  {
   "cell_type": "code",
   "execution_count": 2,
   "metadata": {},
   "outputs": [],
   "source": [
    "import requests\n",
    "import bs4"
   ]
  },
  {
   "cell_type": "markdown",
   "metadata": {},
   "source": [
    "# Ссылка на сайт с которого берем отзывы"
   ]
  },
  {
   "cell_type": "code",
   "execution_count": 3,
   "metadata": {},
   "outputs": [],
   "source": [
    "link = 'https://torg.mail.ru/review/goods/mobilephones/'"
   ]
  },
  {
   "cell_type": "markdown",
   "metadata": {},
   "source": [
    "# Собственно собираем текста отзывов вместе с оценкой"
   ]
  },
  {
   "cell_type": "code",
   "execution_count": 4,
   "metadata": {},
   "outputs": [],
   "source": [
    "texts = []\n",
    "scores = []\n",
    "for i in range(1,20):\n",
    "    req = requests.get(link+\"?page=\"+str(i))\n",
    "    parser = bs4.BeautifulSoup(req.text, 'lxml')\n",
    "    for rev in parser.find_all('div', attrs={'class':'review-item__body'}):\n",
    "        sub_texts = str('')\n",
    "        for text in rev.find_all('p', attrs={'class':'review-item__paragraph'}):\n",
    "            sub_texts = sub_texts + \"\\n\" + text.find('span').text\n",
    "        texts.append(sub_texts)\n",
    "        scores.append(rev.find('span', attrs={'class':'review-item__rating-counter'}).text)"
   ]
  },
  {
   "cell_type": "markdown",
   "metadata": {},
   "source": [
    "\n",
    "## Так выглядит часть html файла c тегом div"
   ]
  },
  {
   "cell_type": "code",
   "execution_count": 53,
   "metadata": {
    "scrolled": true
   },
   "outputs": [
    {
     "data": {
      "text/plain": [
       "<div class=\"counter\">\\n<!-- START TOP: counters -->\\n<noindex><!-- tns-counter.ru -->\\n<script language=\"JavaScript\" type=\"text/javascript\"> \\r\\nvar img = new Image();\\r\\nimg.src = '//www.tns-counter.ru/V13a***R>' + document.referrer.replace(/\\\\*/g,'%2a') + '*mail_ru/ru/UTF-8/tmsec=mail_torg/' + Math.round(Math.random() * 1000000000);\\r\\n</script>\\n<noscript>\\n<img alt=\"\" height=\"1\" src=\"//www.tns-counter.ru/V13a****mail_ru/ru/UTF-8/tmsec=mail_torg/\" width=\"1\"/>\\n</noscript>\\n</noindex> <!-- END TOP: counters -->\\n</div>"
      ]
     },
     "execution_count": 53,
     "metadata": {},
     "output_type": "execute_result"
    }
   ],
   "source": [
    "parser.find_all('div')[0]"
   ]
  },
  {
   "cell_type": "markdown",
   "metadata": {},
   "source": [
    "## А так выглядят отзывы"
   ]
  },
  {
   "cell_type": "code",
   "execution_count": 7,
   "metadata": {},
   "outputs": [
    {
     "name": "stdout",
     "output_type": "stream",
     "text": [
      "4\n",
      "\n",
      "сойдёт для временной замены(как у меня)сломавшегося телефона\t\t\t\t\t\n",
      "яркий\t\t\t\t\t\n",
      "динамик,плохо слышно собеседника\t\t\t\t\t\n"
     ]
    }
   ],
   "source": [
    "print scores[5]\n",
    "print texts[5]"
   ]
  }
 ],
 "metadata": {
  "kernelspec": {
   "display_name": "Python 2",
   "language": "python",
   "name": "python2"
  },
  "language_info": {
   "codemirror_mode": {
    "name": "ipython",
    "version": 2
   },
   "file_extension": ".py",
   "mimetype": "text/x-python",
   "name": "python",
   "nbconvert_exporter": "python",
   "pygments_lexer": "ipython2",
   "version": "2.7.14"
  }
 },
 "nbformat": 4,
 "nbformat_minor": 2
}
